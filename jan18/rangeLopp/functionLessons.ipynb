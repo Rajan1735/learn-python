{
 "cells": [
  {
   "cell_type": "code",
   "execution_count": 1,
   "metadata": {},
   "outputs": [
    {
     "data": {
      "text/plain": [
       "7"
      ]
     },
     "execution_count": 1,
     "metadata": {},
     "output_type": "execute_result"
    }
   ],
   "source": [
    "def add(a,b):\n",
    "    return a+b\n",
    "add(3,4)"
   ]
  },
  {
   "cell_type": "code",
   "execution_count": 12,
   "metadata": {},
   "outputs": [
    {
     "data": {
      "text/plain": [
       "28"
      ]
     },
     "execution_count": 12,
     "metadata": {},
     "output_type": "execute_result"
    }
   ],
   "source": [
    "def add_list(*data):\n",
    "    sum=0\n",
    "    for i in data:\n",
    "        sum+=i\n",
    "    return sum\n",
    "\n",
    "add_list(2,3,7,8,8)"
   ]
  },
  {
   "cell_type": "code",
   "execution_count": 10,
   "metadata": {},
   "outputs": [
    {
     "data": {
      "text/plain": [
       "9"
      ]
     },
     "execution_count": 10,
     "metadata": {},
     "output_type": "execute_result"
    }
   ],
   "source": [
    "def add_list1(list1):\n",
    "    sum=0\n",
    "    for i in list1:\n",
    "        sum+=i\n",
    "    return sum\n",
    "\n",
    "add_list1([2,3,4])"
   ]
  },
  {
   "cell_type": "code",
   "execution_count": 16,
   "metadata": {},
   "outputs": [
    {
     "data": {
      "text/plain": [
       "(76, 64)"
      ]
     },
     "execution_count": 16,
     "metadata": {},
     "output_type": "execute_result"
    }
   ],
   "source": [
    "# mg +ma \n",
    "def cal(m,g,a):\n",
    "    return m*g +m*a \n",
    "m=4\n",
    "g=9\n",
    "a=10\n",
    "def gravity_earth_moon():\n",
    "    global m,g,a\n",
    "    gravity_earth=cal(m,g,a)\n",
    "    m=4\n",
    "    g=6\n",
    "    a=10\n",
    "    gravity_moon=cal(m,g,a)\n",
    "    return gravity_earth,gravity_moon\n",
    "\n",
    "gravity_earth_moon()\n"
   ]
  },
  {
   "cell_type": "code",
   "execution_count": 18,
   "metadata": {},
   "outputs": [
    {
     "data": {
      "text/plain": [
       "(140, 90)"
      ]
     },
     "execution_count": 18,
     "metadata": {},
     "output_type": "execute_result"
    }
   ],
   "source": [
    "def gravity(**keyargs):\n",
    "    return keyargs['m'] * keyargs['g'] + keyargs['m'] *keyargs['a']\n",
    "\n",
    "def cal():\n",
    "    g_earth=gravity(m=10,g=9,a=5)\n",
    "    g_moon=gravity(m=9,g=9,a=1)\n",
    "    return g_earth,g_moon\n",
    "\n",
    "cal()\n"
   ]
  }
 ],
 "metadata": {
  "kernelspec": {
   "display_name": "testenv",
   "language": "python",
   "name": "python3"
  },
  "language_info": {
   "codemirror_mode": {
    "name": "ipython",
    "version": 3
   },
   "file_extension": ".py",
   "mimetype": "text/x-python",
   "name": "python",
   "nbconvert_exporter": "python",
   "pygments_lexer": "ipython3",
   "version": "3.11.4"
  }
 },
 "nbformat": 4,
 "nbformat_minor": 2
}
