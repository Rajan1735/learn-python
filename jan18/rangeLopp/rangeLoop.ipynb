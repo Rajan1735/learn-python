{
 "cells": [
  {
   "cell_type": "code",
   "execution_count": 1,
   "metadata": {},
   "outputs": [
    {
     "name": "stdout",
     "output_type": "stream",
     "text": [
      "1\n",
      "3\n",
      "5\n",
      "7\n",
      "9\n"
     ]
    }
   ],
   "source": [
    "for i in range(1,10,2):\n",
    "    print(i)"
   ]
  },
  {
   "cell_type": "code",
   "execution_count": 3,
   "metadata": {},
   "outputs": [
    {
     "name": "stdout",
     "output_type": "stream",
     "text": [
      " 3 * 1 = 3\n",
      " 3 * 2 = 6\n",
      " 3 * 3 = 9\n",
      " 3 * 4 = 12\n",
      " 3 * 5 = 15\n",
      " 3 * 6 = 18\n",
      " 3 * 7 = 21\n",
      " 3 * 8 = 24\n",
      " 3 * 9 = 27\n",
      " 3 * 10 = 30\n"
     ]
    }
   ],
   "source": [
    "for i in range(1,11,1):\n",
    "    print(f' {3} * {i} = {3*i}')"
   ]
  },
  {
   "cell_type": "code",
   "execution_count": 1,
   "metadata": {},
   "outputs": [
    {
     "name": "stdout",
     "output_type": "stream",
     "text": [
      "6\n",
      "5\n",
      "4\n",
      "3\n",
      "2\n",
      "1\n"
     ]
    }
   ],
   "source": [
    "for i in range(6,0,-1):\n",
    "    print(i)\n"
   ]
  },
  {
   "cell_type": "code",
   "execution_count": 3,
   "metadata": {},
   "outputs": [
    {
     "name": "stdout",
     "output_type": "stream",
     "text": [
      "3* 1 =3\n",
      "3* 2 =6\n",
      "3* 3 =9\n",
      "3* 4 =12\n",
      "3* 5 =15\n",
      "3* 6 =18\n",
      "3* 7 =21\n",
      "3* 8 =24\n",
      "3* 9 =27\n",
      "3* 10 =30\n",
      "end of first table\n",
      "5* 1 =5\n",
      "5* 2 =10\n",
      "5* 3 =15\n",
      "5* 4 =20\n",
      "5* 5 =25\n",
      "5* 6 =30\n",
      "5* 7 =35\n",
      "5* 8 =40\n",
      "5* 9 =45\n",
      "5* 10 =50\n",
      "end of first table\n",
      "6* 1 =6\n",
      "6* 2 =12\n",
      "6* 3 =18\n",
      "6* 4 =24\n",
      "6* 5 =30\n",
      "6* 6 =36\n",
      "6* 7 =42\n",
      "6* 8 =48\n",
      "6* 9 =54\n",
      "6* 10 =60\n",
      "end of first table\n",
      "7* 1 =7\n",
      "7* 2 =14\n",
      "7* 3 =21\n",
      "7* 4 =28\n",
      "7* 5 =35\n",
      "7* 6 =42\n",
      "7* 7 =49\n",
      "7* 8 =56\n",
      "7* 9 =63\n",
      "7* 10 =70\n",
      "end of first table\n"
     ]
    }
   ],
   "source": [
    "number=[3,5,6,7]\n",
    "for i in number:\n",
    "    temp=i\n",
    "    for j in range(1,11):\n",
    "        print(f'{temp}* {j} ={j*temp}')\n",
    "    print(\"end of first table\")"
   ]
  },
  {
   "cell_type": "code",
   "execution_count": 18,
   "metadata": {},
   "outputs": [
    {
     "name": "stdout",
     "output_type": "stream",
     "text": [
      "[5, 8, 7]\n"
     ]
    }
   ],
   "source": [
    "n=int(input(\"enter number\"))\n",
    "table_list=[]\n",
    "for i in range(1,n):\n",
    "    j=int(input(\"enter number\"))\n",
    "    table_list.append(j)\n",
    "print(table_list)\n",
    "\n"
   ]
  },
  {
   "cell_type": "code",
   "execution_count": 19,
   "metadata": {},
   "outputs": [
    {
     "name": "stdout",
     "output_type": "stream",
     "text": [
      "apple\n",
      "banana\n",
      "cherry\n"
     ]
    },
    {
     "data": {
      "text/plain": [
       "[None, None, None]"
      ]
     },
     "execution_count": 19,
     "metadata": {},
     "output_type": "execute_result"
    }
   ],
   "source": [
    "thislist = [\"apple\", \"banana\", \"cherry\"]\n",
    "[print(x) for x in thislist]\n"
   ]
  }
 ],
 "metadata": {
  "kernelspec": {
   "display_name": "testenv",
   "language": "python",
   "name": "python3"
  },
  "language_info": {
   "codemirror_mode": {
    "name": "ipython",
    "version": 3
   },
   "file_extension": ".py",
   "mimetype": "text/x-python",
   "name": "python",
   "nbconvert_exporter": "python",
   "pygments_lexer": "ipython3",
   "version": "3.11.4"
  }
 },
 "nbformat": 4,
 "nbformat_minor": 2
}
