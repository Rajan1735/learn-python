{
 "cells": [
  {
   "cell_type": "code",
   "execution_count": 12,
   "metadata": {},
   "outputs": [],
   "source": [
    "class test:\n",
    "    name=\"rajan\"\n",
    "    def mg(self):\n",
    "        print(\"welcome to oops \")"
   ]
  },
  {
   "cell_type": "code",
   "execution_count": 13,
   "metadata": {},
   "outputs": [
    {
     "name": "stdout",
     "output_type": "stream",
     "text": [
      "welcome to oops \n"
     ]
    },
    {
     "data": {
      "text/plain": [
       "'rajan'"
      ]
     },
     "execution_count": 13,
     "metadata": {},
     "output_type": "execute_result"
    }
   ],
   "source": [
    "t=test()\n",
    "t.mg()\n",
    "t.name\n"
   ]
  },
  {
   "cell_type": "code",
   "execution_count": 19,
   "metadata": {},
   "outputs": [],
   "source": [
    "# self is not a keyword but used as standard convention\n",
    "# to use the properties inside the class use the self word. it means it pointer or reference\n",
    "class student:\n",
    "    def __init__(self,course, duration,mentor):\n",
    "        self.course=course\n",
    "        self.duration=duration\n",
    "        self.mentor=mentor\n",
    "    def show(self):\n",
    "        print(\"mentor name is \",self.mentor)\n",
    "        "
   ]
  },
  {
   "cell_type": "code",
   "execution_count": 20,
   "metadata": {},
   "outputs": [
    {
     "name": "stdout",
     "output_type": "stream",
     "text": [
      "mentor name is  rajan\n"
     ]
    }
   ],
   "source": [
    "s1=student(\"dsa\",4,\"rajan\")\n",
    "s1.course\n",
    "s1.show()"
   ]
  },
  {
   "cell_type": "code",
   "execution_count": 21,
   "metadata": {},
   "outputs": [],
   "source": [
    "# inheritance\n",
    "class Skills:\n",
    "    def pskill(self):\n",
    "        print(\"this is my skill\")"
   ]
  },
  {
   "cell_type": "code",
   "execution_count": 22,
   "metadata": {},
   "outputs": [],
   "source": [
    "class Student(Skills):\n",
    "    def ps1(self):\n",
    "        print(\" this is my second skill\")"
   ]
  },
  {
   "cell_type": "code",
   "execution_count": 24,
   "metadata": {},
   "outputs": [
    {
     "name": "stdout",
     "output_type": "stream",
     "text": [
      "this is my skill\n",
      " this is my second skill\n"
     ]
    }
   ],
   "source": [
    "o1=Student()\n",
    "o1.pskill()\n",
    "o1.ps1()"
   ]
  },
  {
   "cell_type": "code",
   "execution_count": 26,
   "metadata": {},
   "outputs": [],
   "source": [
    "class Mentor:\n",
    "    def __init__(self,m_name,m_email,m_contact):\n",
    "        self.m_name=m_name\n",
    "        self.m_email=m_email\n",
    "        self.m_contact=m_contact\n",
    "    def mentor_details(self):\n",
    "        print(\"mentor details\",self.m_name) "
   ]
  },
  {
   "cell_type": "code",
   "execution_count": 27,
   "metadata": {},
   "outputs": [],
   "source": [
    "class DS(Mentor):\n",
    "\n",
    "    def ds_show(self):\n",
    "        print(\"this is my ddsm class\")"
   ]
  },
  {
   "cell_type": "code",
   "execution_count": 31,
   "metadata": {},
   "outputs": [
    {
     "name": "stdout",
     "output_type": "stream",
     "text": [
      "mentor details rajan\n"
     ]
    }
   ],
   "source": [
    "ds1=DS(\"rajan\",\"raj@gmail.com\",12345)\n",
    "ds1.mentor_details()"
   ]
  },
  {
   "cell_type": "code",
   "execution_count": 39,
   "metadata": {},
   "outputs": [],
   "source": [
    "class a:\n",
    "    def test(self):\n",
    "        print(\"this is part of a class\")\n",
    "\n",
    "class b(a):\n",
    "    def test(self):\n",
    "        super().test()\n",
    "        print(\"this is part of  child class\")\n",
    "    "
   ]
  },
  {
   "cell_type": "code",
   "execution_count": 40,
   "metadata": {},
   "outputs": [
    {
     "name": "stdout",
     "output_type": "stream",
     "text": [
      "this is part of a class\n",
      "this is part of  child class\n"
     ]
    }
   ],
   "source": [
    "b1=b()\n",
    "b1.test()\n",
    "\n",
    "# this is part of method overriding"
   ]
  },
  {
   "cell_type": "code",
   "execution_count": null,
   "metadata": {},
   "outputs": [],
   "source": [
    "# polymorphism\n"
   ]
  }
 ],
 "metadata": {
  "kernelspec": {
   "display_name": "testenv",
   "language": "python",
   "name": "python3"
  },
  "language_info": {
   "codemirror_mode": {
    "name": "ipython",
    "version": 3
   },
   "file_extension": ".py",
   "mimetype": "text/x-python",
   "name": "python",
   "nbconvert_exporter": "python",
   "pygments_lexer": "ipython3",
   "version": "3.11.4"
  }
 },
 "nbformat": 4,
 "nbformat_minor": 2
}
