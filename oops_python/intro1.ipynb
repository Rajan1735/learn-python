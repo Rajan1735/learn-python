{
 "cells": [
  {
   "cell_type": "code",
   "execution_count": 1,
   "metadata": {},
   "outputs": [
    {
     "data": {
      "text/plain": [
       "'rajan'"
      ]
     },
     "execution_count": 1,
     "metadata": {},
     "output_type": "execute_result"
    }
   ],
   "source": [
    "class Person:\n",
    "    def __init__(self,name,age) -> None:\n",
    "        self.name=name\n",
    "        self.age=age\n",
    "\n",
    "\n",
    "p1=Person(\"rajan\",24)\n",
    "p1.name"
   ]
  },
  {
   "cell_type": "code",
   "execution_count": 14,
   "metadata": {},
   "outputs": [],
   "source": [
    "class Student:\n",
    "    def __init__(self,name, age,fees) -> None:\n",
    "        self.name=name \n",
    "        self.age=age\n",
    "        self.fees=fees\n",
    "    \n",
    "    def cal_fees(self):\n",
    "        return self.fees*10\n",
    "    \n",
    "    # def __str__(self) -> str:\n",
    "    #     return f'{}'\n",
    "\n",
    "# s1=Student(\"rajan\",23,5)\n",
    "# s1.cal_fees()\n",
    "# del s1.age\n",
    "# s1.age()\n",
    "\n"
   ]
  },
  {
   "cell_type": "code",
   "execution_count": 17,
   "metadata": {},
   "outputs": [
    {
     "data": {
      "text/plain": [
       "' grade one fees'"
      ]
     },
     "execution_count": 17,
     "metadata": {},
     "output_type": "execute_result"
    }
   ],
   "source": [
    "class  GradeOneStudent(Student):\n",
    "    def __init__(self, name, age, fees) -> None:\n",
    "        super().__init__(name, age, fees)\n",
    "    \n",
    "    def fees_one(self):\n",
    "        return \" grade one fees\"\n",
    "\n",
    "g1=GradeOneStudent('Rajan', 23, 78)\n",
    "g1.cal_fees()\n",
    "g1.fees_one()"
   ]
  },
  {
   "cell_type": "code",
   "execution_count": null,
   "metadata": {},
   "outputs": [],
   "source": [
    "class Take_values:\n",
    "  def _init_(self, fnumber, snumber):\n",
    "    self.firstnumber = fnumber\n",
    "    self.secondnumber = snumber\n",
    "    print(\"Parent class is called\")\n",
    "\n",
    "class Constructor:\n",
    "    def _init_(self, fnumber, snumber):\n",
    "        super()._init_(fnumber, snumber)\n",
    "  \n",
    "class MathCalc(Take_values,Constructor):\n",
    "  def printadd(self):\n",
    "    return self.firstnumber+self.secondnumber\n",
    "    \n",
    "  def printsub(self):\n",
    "    return self.firstnumber-self.secondnumber\n",
    "    \n",
    "  def printdiv(self):\n",
    "    return self.firstnumber/self.secondnumber\n",
    "\n",
    "  def printmult(self):\n",
    "    return self.firstnumber*self.secondnumber"
   ]
  }
 ],
 "metadata": {
  "kernelspec": {
   "display_name": "testenv",
   "language": "python",
   "name": "python3"
  },
  "language_info": {
   "codemirror_mode": {
    "name": "ipython",
    "version": 3
   },
   "file_extension": ".py",
   "mimetype": "text/x-python",
   "name": "python",
   "nbconvert_exporter": "python",
   "pygments_lexer": "ipython3",
   "version": "3.11.4"
  }
 },
 "nbformat": 4,
 "nbformat_minor": 2
}
