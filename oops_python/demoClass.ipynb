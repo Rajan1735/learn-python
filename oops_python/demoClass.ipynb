{
 "cells": [
  {
   "cell_type": "code",
   "execution_count": 16,
   "metadata": {},
   "outputs": [
    {
     "name": "stdout",
     "output_type": "stream",
     "text": [
      "add function is called\n",
      "add function is called\n",
      "None\n"
     ]
    }
   ],
   "source": [
    "class DemoClass:\n",
    "    a=10\n",
    "    def add(self):\n",
    "       print(\"add function is called\") \n",
    "    def sub(self):\n",
    "        print(\"sub function is called\")\n",
    "    def mul(self):\n",
    "        return (self.a*12)\n",
    "\n",
    "d1=DemoClass()\n",
    "d1.a\n",
    "d1.add()\n",
    "print(d1.add())"
   ]
  },
  {
   "cell_type": "code",
   "execution_count": 10,
   "metadata": {},
   "outputs": [
    {
     "name": "stdout",
     "output_type": "stream",
     "text": [
      "add function is called\n"
     ]
    }
   ],
   "source": [
    "# creating object of the class\n",
    "d2=DemoClass() \n",
    "d2.add()"
   ]
  },
  {
   "cell_type": "code",
   "execution_count": 17,
   "metadata": {},
   "outputs": [
    {
     "name": "stdout",
     "output_type": "stream",
     "text": [
      "sub function is called\n",
      "None\n",
      "120\n"
     ]
    }
   ],
   "source": [
    "d3=DemoClass()\n",
    "print(d3.sub())\n",
    "print(d3.mul())"
   ]
  },
  {
   "cell_type": "code",
   "execution_count": 35,
   "metadata": {},
   "outputs": [],
   "source": [
    "class DClass:\n",
    "    \n",
    "    a=10\n",
    "    def __init__(self) -> None:\n",
    "        print(\"constructor is called\")\n",
    "    def show(self):\n",
    "        return self.a*10\n",
    "    def fees(self,p,b):\n",
    "        return ((p)+(b))"
   ]
  },
  {
   "cell_type": "code",
   "execution_count": 39,
   "metadata": {},
   "outputs": [
    {
     "name": "stdout",
     "output_type": "stream",
     "text": [
      "constructor is called\n"
     ]
    },
    {
     "data": {
      "text/plain": [
       "9"
      ]
     },
     "execution_count": 39,
     "metadata": {},
     "output_type": "execute_result"
    }
   ],
   "source": [
    "d1=DClass()\n",
    "d1.show()\n",
    "d1.fees(4,5)"
   ]
  },
  {
   "cell_type": "code",
   "execution_count": 40,
   "metadata": {},
   "outputs": [
    {
     "data": {
      "text/plain": [
       "9"
      ]
     },
     "execution_count": 40,
     "metadata": {},
     "output_type": "execute_result"
    }
   ],
   "source": [
    "d1.fees(4,5)"
   ]
  },
  {
   "cell_type": "code",
   "execution_count": 41,
   "metadata": {},
   "outputs": [],
   "source": [
    "class Person:\n",
    "    def __init__(self) -> None:\n",
    "        pass\n",
    "    def name(self):\n",
    "        print(\"person name is here\")"
   ]
  },
  {
   "cell_type": "code",
   "execution_count": 42,
   "metadata": {},
   "outputs": [],
   "source": [
    "class Father:\n",
    "    def __init__(self) -> None:\n",
    "        pass\n",
    "    def dadName(self):\n",
    "        print(\" father is called\")"
   ]
  },
  {
   "cell_type": "code",
   "execution_count": 43,
   "metadata": {},
   "outputs": [
    {
     "name": "stdout",
     "output_type": "stream",
     "text": [
      "person name is here\n",
      " father is called\n"
     ]
    }
   ],
   "source": [
    "class Student(Person,Father):\n",
    "    def __init__(self) -> None:\n",
    "        super().__init__()\n",
    "\n",
    "s1=Student()\n",
    "s1.name()\n",
    "s1.dadName()"
   ]
  },
  {
   "cell_type": "code",
   "execution_count": 1,
   "metadata": {},
   "outputs": [],
   "source": [
    "# class Student:\n",
    "#     __name=\"rajan\"\n",
    "#     def __init__(self):\n",
    "#         print(self.__name)\n",
    "# s1=Student()\n",
    "# s1.__name"
   ]
  },
  {
   "cell_type": "code",
   "execution_count": null,
   "metadata": {},
   "outputs": [],
   "source": []
  }
 ],
 "metadata": {
  "kernelspec": {
   "display_name": "testenv",
   "language": "python",
   "name": "python3"
  },
  "language_info": {
   "codemirror_mode": {
    "name": "ipython",
    "version": 3
   },
   "file_extension": ".py",
   "mimetype": "text/x-python",
   "name": "python",
   "nbconvert_exporter": "python",
   "pygments_lexer": "ipython3",
   "version": "3.11.4"
  }
 },
 "nbformat": 4,
 "nbformat_minor": 2
}
